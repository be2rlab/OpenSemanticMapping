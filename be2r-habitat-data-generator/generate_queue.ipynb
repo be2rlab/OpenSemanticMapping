{
 "cells": [
  {
   "cell_type": "code",
   "execution_count": null,
   "metadata": {},
   "outputs": [],
   "source": [
    "%load_ext autoreload \n",
    "%autoreload 2\n",
    "\n",
    "%matplotlib inline"
   ]
  },
  {
   "cell_type": "code",
   "execution_count": null,
   "metadata": {},
   "outputs": [],
   "source": [
    "from src.lights import change_lights\n",
    "from src.main import generate_scenario, run_scenario\n",
    "from src.logger import ExperimentLogger\n",
    "\n",
    "from utils.common import do_test_steps, create_simulator, get_camera_matrix, place_agent\n",
    "\n",
    "from concurrent.futures import ThreadPoolExecutor"
   ]
  },
  {
   "cell_type": "code",
   "execution_count": null,
   "metadata": {},
   "outputs": [],
   "source": [
    "def create_experiment(sim_settings_filename):\n",
    "    logger = ExperimentLogger(sim_settings_filename)\n",
    "    sim_settings, _ = logger.get_settings()\n",
    "\n",
    "    sim = create_simulator(sim_settings)\n",
    "\n",
    "    return {'logger': logger, 'sim': sim}\n",
    "\n",
    "\n",
    "def run_experiment(experiment, bar_inds=[0, 1], display=False):\n",
    "    logger = experiment['logger']\n",
    "    sim = experiment['sim']\n",
    "\n",
    "    sim_settings, light_settings = logger.get_settings()\n",
    "\n",
    "    start_point, navigatable_points = generate_scenario(sim, sim_settings, display=display)\n",
    "\n",
    "    sim = place_agent(sim, sim_settings['default_agent'], start_point)\n",
    "\n",
    "    camera_matrix = get_camera_matrix(sim.agents[sim_settings['default_agent']])\n",
    "    logger.save_camera_params(camera_matrix)\n",
    "\n",
    "    run_scenario(sim, sim_settings, light_settings, navigatable_points, logger, display=display, bar_inds=bar_inds)"
   ]
  },
  {
   "cell_type": "code",
   "execution_count": null,
   "metadata": {},
   "outputs": [],
   "source": [
    "config_count = 5\n",
    "num_workers = min(config_count, 12)\n",
    "\n",
    "experiments = [create_experiment(f'sim_settings_{i}.json') for i in range(config_count)]"
   ]
  },
  {
   "cell_type": "code",
   "execution_count": null,
   "metadata": {},
   "outputs": [],
   "source": [
    "for i, exp in enumerate(experiments):\n",
    "    run_experiment(exp, [i*2, i*2 + 1])"
   ]
  },
  {
   "cell_type": "code",
   "execution_count": null,
   "metadata": {},
   "outputs": [],
   "source": [
    "!rm generated.zip\n",
    "!zip -r generated.zip generated/"
   ]
  }
 ],
 "metadata": {
  "kernelspec": {
   "display_name": "habitat",
   "language": "python",
   "name": "python3"
  },
  "language_info": {
   "codemirror_mode": {
    "name": "ipython",
    "version": 3
   },
   "file_extension": ".py",
   "mimetype": "text/x-python",
   "name": "python",
   "nbconvert_exporter": "python",
   "pygments_lexer": "ipython3",
   "version": "3.9.18"
  }
 },
 "nbformat": 4,
 "nbformat_minor": 2
}
